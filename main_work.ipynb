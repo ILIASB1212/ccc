{
 "cells": [
  {
   "cell_type": "code",
   "execution_count": 1,
   "id": "43c057df-98e4-4f24-a75a-4df6246227eb",
   "metadata": {},
   "outputs": [],
   "source": [
    "import joblib"
   ]
  },
  {
   "cell_type": "code",
   "execution_count": 2,
   "id": "5ee79752-0bdf-41df-9084-322760321f4e",
   "metadata": {},
   "outputs": [],
   "source": [
    "model=joblib.load(\"xgboost_model.joblib\")\n",
    "preprosses=joblib.load(\"preprocessor.joblib\")"
   ]
  },
  {
   "cell_type": "code",
   "execution_count": 31,
   "id": "56d84a18-0f0c-4ba1-83d9-55fdf588ea30",
   "metadata": {},
   "outputs": [
    {
     "data": {
      "text/plain": [
       "array(['CreditScore', 'Geography', 'Gender', 'Age', 'Tenure', 'Balance',\n",
       "       'NumOfProducts', 'HasCrCard', 'IsActiveMember', 'EstimatedSalary'],\n",
       "      dtype=object)"
      ]
     },
     "execution_count": 31,
     "metadata": {},
     "output_type": "execute_result"
    }
   ],
   "source": [
    "preprosses.feature_names_in_"
   ]
  },
  {
   "cell_type": "code",
   "execution_count": 86,
   "id": "7feffa04-b2fa-45f6-b925-1250f1411608",
   "metadata": {},
   "outputs": [
    {
     "name": "stdout",
     "output_type": "stream",
     "text": [
      "the client will shurn\n",
      "the probability of client will shurn is 96.52560353279114 %\n"
     ]
    }
   ],
   "source": [
    "import pandas as pd\n",
    "\n",
    "data_list = [800, \"Germany\", \"Male\", 60, 2, 20000, 4, 1, 0, 3000]\n",
    "\n",
    "column_names = [\n",
    "    'CreditScore',\n",
    "    'Geography',\n",
    "    'Gender',\n",
    "    'Age',\n",
    "    'Tenure',\n",
    "    'Balance',\n",
    "    'NumOfProducts',\n",
    "    'HasCrCard',\n",
    "    'IsActiveMember',\n",
    "    'EstimatedSalary'\n",
    "]\n",
    "\n",
    "df = pd.DataFrame([data_list], columns=column_names)\n",
    "transformed=preprosses.transform(df)\n",
    "predict=model.predict(transformed)\n",
    "predict_propa=model.predict_proba(transformed)\n",
    "result = \"shurn\"if predict ==1 else \"stayed\"\n",
    "result_proba=1 if predict ==1 else 0\n",
    "print(f\"the client will {result}\")\n",
    "print(f\"the probability of client will {result} is {predict_propa[0][result_proba]*100} %\")"
   ]
  },
  {
   "cell_type": "code",
   "execution_count": 72,
   "id": "92a377c8-3ad3-43a1-9c8f-e03c7e52d345",
   "metadata": {},
   "outputs": [
    {
     "data": {
      "text/plain": [
       "0.9041147"
      ]
     },
     "execution_count": 72,
     "metadata": {},
     "output_type": "execute_result"
    }
   ],
   "source": [
    "\n",
    "predict_propa[0][0]"
   ]
  },
  {
   "cell_type": "code",
   "execution_count": 17,
   "id": "c24f7ec5-5001-4760-815d-49f50c17ddff",
   "metadata": {},
   "outputs": [
    {
     "data": {
      "text/plain": [
       "array([0])"
      ]
     },
     "execution_count": 17,
     "metadata": {},
     "output_type": "execute_result"
    }
   ],
   "source": [
    "predict=model.predict(transformed)\n",
    "predict_propa=model.predict_proba(transformed)\n",
    "print(f\"the client will {predict}\")\n",
    "print(f\"the probability of client will {predict} is {predict_propa}\")"
   ]
  }
 ],
 "metadata": {
  "kernelspec": {
   "display_name": "Python [conda env:base] *",
   "language": "python",
   "name": "conda-base-py"
  },
  "language_info": {
   "codemirror_mode": {
    "name": "ipython",
    "version": 3
   },
   "file_extension": ".py",
   "mimetype": "text/x-python",
   "name": "python",
   "nbconvert_exporter": "python",
   "pygments_lexer": "ipython3",
   "version": "3.12.11"
  }
 },
 "nbformat": 4,
 "nbformat_minor": 5
}
